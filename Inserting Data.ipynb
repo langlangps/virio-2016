{
 "cells": [
  {
   "cell_type": "code",
   "execution_count": 1,
   "metadata": {},
   "outputs": [],
   "source": [
    "import pandas as pd\n",
    "import numpy as np\n",
    "import psycopg2\n",
    "import os"
   ]
  },
  {
   "cell_type": "code",
   "execution_count": 14,
   "metadata": {},
   "outputs": [],
   "source": [
    "from var_func import *"
   ]
  },
  {
   "cell_type": "markdown",
   "metadata": {},
   "source": [
    "# Loading Data"
   ]
  },
  {
   "cell_type": "markdown",
   "metadata": {},
   "source": [
    "## Konsumsi Antara"
   ]
  },
  {
   "cell_type": "code",
   "execution_count": 2,
   "metadata": {},
   "outputs": [],
   "source": [
    "data_path = 'G:\\My Drive\\STIS\\Skripsi\\data\\Input Output'"
   ]
  },
  {
   "cell_type": "code",
   "execution_count": 4,
   "metadata": {},
   "outputs": [],
   "source": [
    "konsumsi_akhir = pd.read_excel(\n",
    "    os.path.join(data_path, 'Databases2.xlsx'),\n",
    "    sheet_name = 'Konsumsi Akhir'\n",
    ")"
   ]
  },
  {
   "cell_type": "code",
   "execution_count": 12,
   "metadata": {},
   "outputs": [
    {
     "data": {
      "text/html": [
       "<div>\n",
       "<style scoped>\n",
       "    .dataframe tbody tr th:only-of-type {\n",
       "        vertical-align: middle;\n",
       "    }\n",
       "\n",
       "    .dataframe tbody tr th {\n",
       "        vertical-align: top;\n",
       "    }\n",
       "\n",
       "    .dataframe thead th {\n",
       "        text-align: right;\n",
       "    }\n",
       "</style>\n",
       "<table border=\"1\" class=\"dataframe\">\n",
       "  <thead>\n",
       "    <tr style=\"text-align: right;\">\n",
       "      <th></th>\n",
       "      <th>Provinsi Penyedia</th>\n",
       "      <th>Industri Penyedia</th>\n",
       "      <th>Provinsi Pengguna</th>\n",
       "      <th>Komponen Pengeluaran</th>\n",
       "      <th>Nilai Juta</th>\n",
       "    </tr>\n",
       "  </thead>\n",
       "  <tbody>\n",
       "    <tr>\n",
       "      <th>0</th>\n",
       "      <td>11</td>\n",
       "      <td>I-01</td>\n",
       "      <td>11</td>\n",
       "      <td>3011</td>\n",
       "      <td>2.249330e+05</td>\n",
       "    </tr>\n",
       "    <tr>\n",
       "      <th>1</th>\n",
       "      <td>11</td>\n",
       "      <td>I-01</td>\n",
       "      <td>11</td>\n",
       "      <td>3012</td>\n",
       "      <td>0.000000e+00</td>\n",
       "    </tr>\n",
       "    <tr>\n",
       "      <th>2</th>\n",
       "      <td>11</td>\n",
       "      <td>I-01</td>\n",
       "      <td>11</td>\n",
       "      <td>3020</td>\n",
       "      <td>0.000000e+00</td>\n",
       "    </tr>\n",
       "    <tr>\n",
       "      <th>3</th>\n",
       "      <td>11</td>\n",
       "      <td>I-01</td>\n",
       "      <td>11</td>\n",
       "      <td>3030</td>\n",
       "      <td>0.000000e+00</td>\n",
       "    </tr>\n",
       "    <tr>\n",
       "      <th>4</th>\n",
       "      <td>11</td>\n",
       "      <td>I-01</td>\n",
       "      <td>11</td>\n",
       "      <td>3041</td>\n",
       "      <td>1.383529e+05</td>\n",
       "    </tr>\n",
       "    <tr>\n",
       "      <th>...</th>\n",
       "      <td>...</td>\n",
       "      <td>...</td>\n",
       "      <td>...</td>\n",
       "      <td>...</td>\n",
       "      <td>...</td>\n",
       "    </tr>\n",
       "    <tr>\n",
       "      <th>300555</th>\n",
       "      <td>94</td>\n",
       "      <td>I-52</td>\n",
       "      <td>94</td>\n",
       "      <td>3011</td>\n",
       "      <td>1.672438e+06</td>\n",
       "    </tr>\n",
       "    <tr>\n",
       "      <th>300556</th>\n",
       "      <td>94</td>\n",
       "      <td>I-52</td>\n",
       "      <td>94</td>\n",
       "      <td>3012</td>\n",
       "      <td>2.222569e+06</td>\n",
       "    </tr>\n",
       "    <tr>\n",
       "      <th>300557</th>\n",
       "      <td>94</td>\n",
       "      <td>I-52</td>\n",
       "      <td>94</td>\n",
       "      <td>3020</td>\n",
       "      <td>1.240059e+05</td>\n",
       "    </tr>\n",
       "    <tr>\n",
       "      <th>300558</th>\n",
       "      <td>94</td>\n",
       "      <td>I-52</td>\n",
       "      <td>94</td>\n",
       "      <td>3030</td>\n",
       "      <td>1.553437e+05</td>\n",
       "    </tr>\n",
       "    <tr>\n",
       "      <th>300559</th>\n",
       "      <td>94</td>\n",
       "      <td>I-52</td>\n",
       "      <td>94</td>\n",
       "      <td>3041</td>\n",
       "      <td>1.948123e+03</td>\n",
       "    </tr>\n",
       "  </tbody>\n",
       "</table>\n",
       "<p>300560 rows × 5 columns</p>\n",
       "</div>"
      ],
      "text/plain": [
       "        Provinsi Penyedia Industri Penyedia  Provinsi Pengguna  \\\n",
       "0                      11              I-01                 11   \n",
       "1                      11              I-01                 11   \n",
       "2                      11              I-01                 11   \n",
       "3                      11              I-01                 11   \n",
       "4                      11              I-01                 11   \n",
       "...                   ...               ...                ...   \n",
       "300555                 94              I-52                 94   \n",
       "300556                 94              I-52                 94   \n",
       "300557                 94              I-52                 94   \n",
       "300558                 94              I-52                 94   \n",
       "300559                 94              I-52                 94   \n",
       "\n",
       "        Komponen Pengeluaran    Nilai Juta  \n",
       "0                       3011  2.249330e+05  \n",
       "1                       3012  0.000000e+00  \n",
       "2                       3020  0.000000e+00  \n",
       "3                       3030  0.000000e+00  \n",
       "4                       3041  1.383529e+05  \n",
       "...                      ...           ...  \n",
       "300555                  3011  1.672438e+06  \n",
       "300556                  3012  2.222569e+06  \n",
       "300557                  3020  1.240059e+05  \n",
       "300558                  3030  1.553437e+05  \n",
       "300559                  3041  1.948123e+03  \n",
       "\n",
       "[300560 rows x 5 columns]"
      ]
     },
     "execution_count": 12,
     "metadata": {},
     "output_type": "execute_result"
    }
   ],
   "source": [
    "konsumsi_akhir"
   ]
  },
  {
   "cell_type": "markdown",
   "metadata": {},
   "source": [
    "## Input Antara Nasional"
   ]
  },
  {
   "cell_type": "code",
   "execution_count": 35,
   "metadata": {},
   "outputs": [],
   "source": [
    "data_path = 'G:\\My Drive\\STIS\\Skripsi\\data\\Input Output'\n",
    "data = pd.read_excel(\n",
    "    os.path.join(data_path, 'Databases2.xlsx'),\n",
    "    header = None,\n",
    "    sheet_name = 'Input Antara Nasional'\n",
    ")\n",
    "\n",
    "data[0] = data[0].ffill()\n",
    "data = data.transpose()\n",
    "data[0] = data[0].ffill()\n",
    "data = data.transpose()\n",
    "\n",
    "column = pd.MultiIndex.from_arrays(data.iloc[0:2,2:].astype(str).to_numpy())\n",
    "row = pd.MultiIndex.from_arrays(data.iloc[2:,0:2].transpose().to_numpy())\n",
    "x = pd.DataFrame(\n",
    "    data.iloc[2:,2:].to_numpy(),\n",
    "    columns = column,\n",
    "    index = row\n",
    ")\n",
    "\n",
    "c = x.reset_index().melt(id_vars = ['level_0', 'level_1']).astype({\n",
    "    'level_0':str,\n",
    "    'level_1':str,\n",
    "    'variable_0':str,\n",
    "    'variable_1':str,\n",
    "    'value':float,\n",
    "})\n",
    "\n",
    "test = pd.read_excel(\n",
    "    os.path.join(data_path, 'Databases2.xlsx'),\\\n",
    "    sheet_name = 'Test'\n",
    ")\n",
    "\n",
    "x = c.join(test.set_index('test'), on = 'level_0')[['Kode', 'level_1', 'variable_0', 'variable_1', 'value']].rename(columns = {\n",
    "    'Kode':'Provinsi Penyedia',\n",
    "    'level_1':'Industri Penyedia',\n",
    "    'variable_0':'a',\n",
    "    'variable_1':'Industri Pengguna',\n",
    "    'value':'Nilai Juta'\n",
    "}).join(test.set_index('test'), on = 'a')[['Provinsi Penyedia', 'Industri Penyedia', 'Kode', 'Industri Pengguna', 'Nilai Juta']].rename(columns = {\n",
    "    'Kode':'Provinsi Pengguna'\n",
    "}).sort_values(['Provinsi Penyedia', 'Industri Penyedia', 'Provinsi Pengguna', 'Industri Pengguna']).reset_index(drop = True).astype({\n",
    "    'Provinsi Penyedia':str,\n",
    "    'Industri Penyedia':str,\n",
    "    'Provinsi Pengguna':str,\n",
    "    'Industri Pengguna':str,\n",
    "    'Nilai Juta':float\n",
    "})"
   ]
  },
  {
   "cell_type": "code",
   "execution_count": 49,
   "metadata": {},
   "outputs": [],
   "source": [
    "table_name = 'input_antara_nasional'\n",
    "tuple_list = []\n",
    "\n",
    "sql = f'''\n",
    "INSERT INTO {table_name}\n",
    "VALUES (%s, %s, %s, %s, %s)\n",
    "'''\n",
    "\n",
    "for val in x.values:\n",
    "    tuple_list.append(tuple(val))"
   ]
  },
  {
   "cell_type": "code",
   "execution_count": null,
   "metadata": {},
   "outputs": [],
   "source": [
    "conn = get_connection()\n",
    "cur = conn.cursor()\n",
    "\n",
    "cur.executemany(sql, tuple_list)\n",
    "\n",
    "conn.commit()\n",
    "cur.close()\n",
    "conn.close()"
   ]
  },
  {
   "cell_type": "code",
   "execution_count": null,
   "metadata": {},
   "outputs": [],
   "source": [
    "'a'"
   ]
  },
  {
   "cell_type": "markdown",
   "metadata": {},
   "source": [
    "## Kode Provinsi"
   ]
  },
  {
   "cell_type": "code",
   "execution_count": null,
   "metadata": {},
   "outputs": [],
   "source": [
    "kode_prov = pd.read_excel(\n",
    "    os.path.join(data_path, 'Databases2.xlsx'),\n",
    "    sheet_name = 'Kode Provinsi'\n",
    ")\n",
    "kode_pend = pd.read_excel(\n",
    "    os.path.join(data_path, 'Databases2.xlsx'),\n",
    "    sheet_name = 'Kode Pendapatan'\n",
    ")\n",
    "kode_ind = pd.read_excel(\n",
    "    os.path.join(data_path, 'Databases2.xlsx'),\n",
    "    sheet_name = 'Kode Industri'\n",
    ")\n"
   ]
  },
  {
   "cell_type": "markdown",
   "metadata": {},
   "source": [
    "# Inserting Data"
   ]
  },
  {
   "cell_type": "code",
   "execution_count": 19,
   "metadata": {},
   "outputs": [],
   "source": [
    "data_path = 'G:\\My Drive\\STIS\\Skripsi\\data\\Input Output\\IRIO'"
   ]
  },
  {
   "cell_type": "code",
   "execution_count": 33,
   "metadata": {},
   "outputs": [],
   "source": [
    "sheet_name = 'Kode Lapus'\n",
    "table_name = 'kode_lapus'\n",
    "tuple_list = []\n",
    "\n",
    "data = pd.read_excel(\n",
    "    os.path.join(data_path, f'{sheet_name}.xlsx')\n",
    ")\n",
    "\n",
    "sql = f'''\n",
    "INSERT INTO {table_name}\n",
    "VALUES (%s, %s)\n",
    "'''\n",
    "\n",
    "for val in data.values:\n",
    "    tuple_list.append(tuple(val))"
   ]
  },
  {
   "cell_type": "code",
   "execution_count": 34,
   "metadata": {},
   "outputs": [],
   "source": [
    "conn = get_connection()\n",
    "cur = conn.cursor()\n",
    "\n",
    "cur.executemany(sql, tuple_list)\n",
    "\n",
    "conn.commit()\n",
    "cur.close()\n",
    "conn.close()"
   ]
  },
  {
   "cell_type": "code",
   "execution_count": 16,
   "metadata": {},
   "outputs": [
    {
     "data": {
      "text/plain": [
       "<module 'psycopg2.sql' from 'C:\\\\Users\\\\User\\\\anaconda3\\\\lib\\\\site-packages\\\\psycopg2\\\\sql.py'>"
      ]
     },
     "execution_count": 16,
     "metadata": {},
     "output_type": "execute_result"
    }
   ],
   "source": []
  }
 ],
 "metadata": {
  "kernelspec": {
   "display_name": "Python 3",
   "language": "python",
   "name": "python3"
  },
  "language_info": {
   "codemirror_mode": {
    "name": "ipython",
    "version": 3
   },
   "file_extension": ".py",
   "mimetype": "text/x-python",
   "name": "python",
   "nbconvert_exporter": "python",
   "pygments_lexer": "ipython3",
   "version": "3.7.6"
  }
 },
 "nbformat": 4,
 "nbformat_minor": 4
}
