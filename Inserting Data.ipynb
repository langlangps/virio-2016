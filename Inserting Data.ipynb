{
 "cells": [
  {
   "cell_type": "code",
   "execution_count": 2,
   "metadata": {},
   "outputs": [],
   "source": [
    "import pandas as pd\n",
    "import numpy as np\n",
    "import psycopg2\n",
    "import os"
   ]
  },
  {
   "cell_type": "code",
   "execution_count": 6,
   "metadata": {},
   "outputs": [],
   "source": [
    "from var_func import *"
   ]
  },
  {
   "cell_type": "markdown",
   "metadata": {},
   "source": [
    "# Loading Data"
   ]
  },
  {
   "cell_type": "code",
   "execution_count": 23,
   "metadata": {},
   "outputs": [],
   "source": [
    "data_path = 'G:\\My Drive\\STIS\\Skripsi\\data\\Input Output'"
   ]
  },
  {
   "cell_type": "markdown",
   "metadata": {},
   "source": [
    "## Konsumsi Akhir"
   ]
  },
  {
   "cell_type": "code",
   "execution_count": 24,
   "metadata": {},
   "outputs": [],
   "source": [
    "# konsumsi_akhir = pd.read_excel(\n",
    "#     os.path.join(data_path, 'Databases2.xlsx'),\n",
    "#     sheet_name = 'Konsumsi Akhir'\n",
    "# )"
   ]
  },
  {
   "cell_type": "code",
   "execution_count": 25,
   "metadata": {},
   "outputs": [],
   "source": [
    "# table_name = 'konsumsi_akhir_nasional'\n",
    "# tuple_list = []\n",
    "\n",
    "# sql = f'''\n",
    "# INSERT INTO {table_name}\n",
    "# VALUES (%s, %s, %s, %s, %s)\n",
    "# '''\n",
    "\n",
    "# for val in konsumsi_akhir.values:\n",
    "#     tuple_list.append(tuple(val))"
   ]
  },
  {
   "cell_type": "code",
   "execution_count": 26,
   "metadata": {},
   "outputs": [],
   "source": [
    "# conn = get_connection()\n",
    "# cur = conn.cursor()\n",
    "\n",
    "# cur.executemany(sql, tuple_list)\n",
    "\n",
    "# conn.commit()\n",
    "# cur.close()\n",
    "# conn.close()"
   ]
  },
  {
   "cell_type": "markdown",
   "metadata": {},
   "source": [
    "## Input Antara Nasional"
   ]
  },
  {
   "cell_type": "code",
   "execution_count": 10,
   "metadata": {},
   "outputs": [],
   "source": [
    "data_path = 'G:\\My Drive\\STIS\\Skripsi\\data\\Input Output'\n",
    "data = pd.read_excel(\n",
    "    os.path.join(data_path, 'Databases2.xlsx'),\n",
    "    header = None,\n",
    "    sheet_name = 'Input Antara Nasional'\n",
    ")\n",
    "\n",
    "data[0] = data[0].ffill()\n",
    "data = data.transpose()\n",
    "data[0] = data[0].ffill()\n",
    "data = data.transpose()\n",
    "\n",
    "column = pd.MultiIndex.from_arrays(data.iloc[0:2,2:].astype(str).to_numpy())\n",
    "row = pd.MultiIndex.from_arrays(data.iloc[2:,0:2].transpose().to_numpy())\n",
    "x = pd.DataFrame(\n",
    "    data.iloc[2:,2:].to_numpy(),\n",
    "    columns = column,\n",
    "    index = row\n",
    ")\n",
    "\n",
    "c = x.reset_index().melt(id_vars = ['level_0', 'level_1']).astype({\n",
    "    'level_0':str,\n",
    "    'level_1':str,\n",
    "    'variable_0':str,\n",
    "    'variable_1':str,\n",
    "    'value':float,\n",
    "})\n",
    "\n",
    "test = pd.read_excel(\n",
    "    os.path.join(data_path, 'Databases2.xlsx'),\\\n",
    "    sheet_name = 'Test'\n",
    ")\n",
    "\n",
    "x = c.join(test.set_index('test'), on = 'level_0')[['Kode', 'level_1', 'variable_0', 'variable_1', 'value']].rename(columns = {\n",
    "    'Kode':'Provinsi Penyedia',\n",
    "    'level_1':'Industri Penyedia',\n",
    "    'variable_0':'a',\n",
    "    'variable_1':'Industri Pengguna',\n",
    "    'value':'Nilai Juta'\n",
    "}).join(test.set_index('test'), on = 'a')[['Provinsi Penyedia', 'Industri Penyedia', 'Kode', 'Industri Pengguna', 'Nilai Juta']].rename(columns = {\n",
    "    'Kode':'Provinsi Pengguna'\n",
    "}).sort_values(['Provinsi Penyedia', 'Industri Penyedia', 'Provinsi Pengguna', 'Industri Pengguna']).reset_index(drop = True).astype({\n",
    "    'Provinsi Penyedia':str,\n",
    "    'Industri Penyedia':str,\n",
    "    'Provinsi Pengguna':str,\n",
    "    'Industri Pengguna':str,\n",
    "    'Nilai Juta':float\n",
    "})"
   ]
  },
  {
   "cell_type": "code",
   "execution_count": 19,
   "metadata": {},
   "outputs": [],
   "source": [
    "table_name = 'input_antara_nasional'\n",
    "tuple_list = []\n",
    "\n",
    "sql = f'''\n",
    "INSERT INTO {table_name}\n",
    "VALUES (%s, %s, %s, %s, %s)\n",
    "'''\n",
    "\n",
    "for val in x.values:\n",
    "    tuple_list.append(tuple(val))"
   ]
  },
  {
   "cell_type": "code",
   "execution_count": 21,
   "metadata": {},
   "outputs": [],
   "source": [
    "conn = get_connection()\n",
    "cur = conn.cursor()\n",
    "\n",
    "cur.executemany(sql, tuple_list)\n",
    "\n",
    "conn.commit()\n",
    "cur.close()\n",
    "conn.close()"
   ]
  },
  {
   "cell_type": "markdown",
   "metadata": {},
   "source": [
    "## Pendapatan"
   ]
  },
  {
   "cell_type": "code",
   "execution_count": 78,
   "metadata": {},
   "outputs": [],
   "source": [
    "pendapatan = pd.read_excel(\n",
    "    os.path.join(data_path, 'Database3.xlsx'),\n",
    "    sheet_name = 'Pendapatan'\n",
    ").sort_values(['Kode Pendapatan', 'Provinsi Pengguna', 'Industri Pengguna']).reset_index(drop = True)"
   ]
  },
  {
   "cell_type": "code",
   "execution_count": 79,
   "metadata": {},
   "outputs": [],
   "source": [
    "pendapatan['Provinsi Pengguna'] = pendapatan.astype({'Provinsi Pengguna':str})['Provinsi Pengguna'].str.strip('.0')"
   ]
  },
  {
   "cell_type": "code",
   "execution_count": 80,
   "metadata": {},
   "outputs": [],
   "source": [
    "table_name = 'pendapatan'\n",
    "tuple_list = []\n",
    "\n",
    "sql = f'''\n",
    "INSERT INTO {table_name}\n",
    "VALUES (%s, %s, %s, %s)\n",
    "'''\n",
    "\n",
    "for val in pendapatan.values:\n",
    "    tuple_list.append(tuple(val))"
   ]
  },
  {
   "cell_type": "code",
   "execution_count": 81,
   "metadata": {},
   "outputs": [],
   "source": [
    "try :\n",
    "    conn = get_connection()\n",
    "    cur = conn.cursor()\n",
    "\n",
    "    cur.executemany(sql, tuple_list)\n",
    "\n",
    "    conn.commit()\n",
    "except Exception as e:\n",
    "    print(e)\n",
    "    cur.close()\n",
    "    conn.close()"
   ]
  },
  {
   "cell_type": "markdown",
   "metadata": {},
   "source": [
    "## Kode Provinsi"
   ]
  },
  {
   "cell_type": "code",
   "execution_count": null,
   "metadata": {},
   "outputs": [],
   "source": [
    "kode_prov = pd.read_excel(\n",
    "    os.path.join(data_path, 'Databases2.xlsx'),\n",
    "    sheet_name = 'Kode Provinsi'\n",
    ")\n",
    "kode_pend = pd.read_excel(\n",
    "    os.path.join(data_path, 'Databases2.xlsx'),\n",
    "    sheet_name = 'Kode Pendapatan'\n",
    ")\n",
    "kode_ind = pd.read_excel(\n",
    "    os.path.join(data_path, 'Databases2.xlsx'),\n",
    "    sheet_name = 'Kode Industri'\n",
    ")\n"
   ]
  },
  {
   "cell_type": "markdown",
   "metadata": {},
   "source": [
    "# Inserting Data"
   ]
  },
  {
   "cell_type": "code",
   "execution_count": 19,
   "metadata": {},
   "outputs": [],
   "source": [
    "data_path = 'G:\\My Drive\\STIS\\Skripsi\\data\\Input Output\\IRIO'"
   ]
  },
  {
   "cell_type": "code",
   "execution_count": 33,
   "metadata": {},
   "outputs": [],
   "source": [
    "sheet_name = 'Kode Lapus'\n",
    "table_name = 'kode_lapus'\n",
    "tuple_list = []\n",
    "\n",
    "data = pd.read_excel(\n",
    "    os.path.join(data_path, f'{sheet_name}.xlsx')\n",
    ")\n",
    "\n",
    "sql = f'''\n",
    "INSERT INTO {table_name}\n",
    "VALUES (%s, %s)\n",
    "'''\n",
    "\n",
    "for val in data.values:\n",
    "    tuple_list.append(tuple(val))"
   ]
  },
  {
   "cell_type": "code",
   "execution_count": 34,
   "metadata": {},
   "outputs": [],
   "source": [
    "conn = get_connection()\n",
    "cur = conn.cursor()\n",
    "\n",
    "cur.executemany(sql, tuple_list)\n",
    "\n",
    "conn.commit()\n",
    "cur.close()\n",
    "conn.close()"
   ]
  },
  {
   "cell_type": "code",
   "execution_count": 16,
   "metadata": {},
   "outputs": [
    {
     "data": {
      "text/plain": [
       "<module 'psycopg2.sql' from 'C:\\\\Users\\\\User\\\\anaconda3\\\\lib\\\\site-packages\\\\psycopg2\\\\sql.py'>"
      ]
     },
     "execution_count": 16,
     "metadata": {},
     "output_type": "execute_result"
    }
   ],
   "source": []
  }
 ],
 "metadata": {
  "kernelspec": {
   "display_name": "Python 3 (ipykernel)",
   "language": "python",
   "name": "python3"
  },
  "language_info": {
   "codemirror_mode": {
    "name": "ipython",
    "version": 3
   },
   "file_extension": ".py",
   "mimetype": "text/x-python",
   "name": "python",
   "nbconvert_exporter": "python",
   "pygments_lexer": "ipython3",
   "version": "3.9.7"
  }
 },
 "nbformat": 4,
 "nbformat_minor": 4
}
